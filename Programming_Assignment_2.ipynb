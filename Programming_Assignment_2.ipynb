{
  "nbformat": 4,
  "nbformat_minor": 0,
  "metadata": {
    "colab": {
      "provenance": [],
      "collapsed_sections": []
    },
    "kernelspec": {
      "name": "python3",
      "display_name": "Python 3"
    },
    "language_info": {
      "name": "python"
    }
  },
  "cells": [
    {
      "cell_type": "markdown",
      "source": [
        "1. Write a Python program to convert kilometers to miles?"
      ],
      "metadata": {
        "id": "ClQSoNDZi0Lx"
      }
    },
    {
      "cell_type": "code",
      "execution_count": 2,
      "metadata": {
        "colab": {
          "base_uri": "https://localhost:8080/"
        },
        "id": "p1WNkYPbitl8",
        "outputId": "56355472-a7bb-4273-9085-99786a5302ed"
      },
      "outputs": [
        {
          "output_type": "stream",
          "name": "stdout",
          "text": [
            "Enter Kilometers 15.798\n",
            "15.798 kilometer is equal to 9.816419058 Miles.\n"
          ]
        }
      ],
      "source": [
        "kilometer = float(input(\"Enter Kilometers \"))\n",
        "miles = 0.621371*kilometer\n",
        "print(f\"{kilometer} kilometer is equal to {miles} Miles.\")"
      ]
    },
    {
      "cell_type": "markdown",
      "source": [
        "2- Write a Python program to convert Celsius to Fahrenheit?"
      ],
      "metadata": {
        "id": "TUxdVwzXjp6I"
      }
    },
    {
      "cell_type": "code",
      "source": [
        "celcius = float(input(\"Enter celcius\"))\n",
        "fhrnt = (celcius*(9/5))+32\n",
        "print(f\"{celcius} celcius is equal to {fhrnt} Fehrenheit\")"
      ],
      "metadata": {
        "colab": {
          "base_uri": "https://localhost:8080/"
        },
        "id": "HJtv9NRtjXOY",
        "outputId": "98b7c82e-2833-45cf-9c7b-d9c2f096ed4c"
      },
      "execution_count": 3,
      "outputs": [
        {
          "output_type": "stream",
          "name": "stdout",
          "text": [
            "Enter celcius34.56\n",
            "34.56 celcius is equal to 94.208 Fehrenheit\n"
          ]
        }
      ]
    },
    {
      "cell_type": "markdown",
      "source": [
        "3 -Write a Python program to display calendar?"
      ],
      "metadata": {
        "id": "x5Hbc6v3kb8X"
      }
    },
    {
      "cell_type": "code",
      "source": [
        "import calendar\n",
        "yy = 2022\n",
        "mm = 11\n",
        "print(calendar.month(yy,mm))\n",
        "print(calendar.calendar(yy))"
      ],
      "metadata": {
        "colab": {
          "base_uri": "https://localhost:8080/"
        },
        "id": "cAZZsFtfkSZo",
        "outputId": "fed049eb-f788-4689-cd9e-3d859cce4dc6"
      },
      "execution_count": 5,
      "outputs": [
        {
          "output_type": "stream",
          "name": "stdout",
          "text": [
            "   November 2022\n",
            "Mo Tu We Th Fr Sa Su\n",
            "    1  2  3  4  5  6\n",
            " 7  8  9 10 11 12 13\n",
            "14 15 16 17 18 19 20\n",
            "21 22 23 24 25 26 27\n",
            "28 29 30\n",
            "\n",
            "                                  2022\n",
            "\n",
            "      January                   February                   March\n",
            "Mo Tu We Th Fr Sa Su      Mo Tu We Th Fr Sa Su      Mo Tu We Th Fr Sa Su\n",
            "                1  2          1  2  3  4  5  6          1  2  3  4  5  6\n",
            " 3  4  5  6  7  8  9       7  8  9 10 11 12 13       7  8  9 10 11 12 13\n",
            "10 11 12 13 14 15 16      14 15 16 17 18 19 20      14 15 16 17 18 19 20\n",
            "17 18 19 20 21 22 23      21 22 23 24 25 26 27      21 22 23 24 25 26 27\n",
            "24 25 26 27 28 29 30      28                        28 29 30 31\n",
            "31\n",
            "\n",
            "       April                      May                       June\n",
            "Mo Tu We Th Fr Sa Su      Mo Tu We Th Fr Sa Su      Mo Tu We Th Fr Sa Su\n",
            "             1  2  3                         1             1  2  3  4  5\n",
            " 4  5  6  7  8  9 10       2  3  4  5  6  7  8       6  7  8  9 10 11 12\n",
            "11 12 13 14 15 16 17       9 10 11 12 13 14 15      13 14 15 16 17 18 19\n",
            "18 19 20 21 22 23 24      16 17 18 19 20 21 22      20 21 22 23 24 25 26\n",
            "25 26 27 28 29 30         23 24 25 26 27 28 29      27 28 29 30\n",
            "                          30 31\n",
            "\n",
            "        July                     August                  September\n",
            "Mo Tu We Th Fr Sa Su      Mo Tu We Th Fr Sa Su      Mo Tu We Th Fr Sa Su\n",
            "             1  2  3       1  2  3  4  5  6  7                1  2  3  4\n",
            " 4  5  6  7  8  9 10       8  9 10 11 12 13 14       5  6  7  8  9 10 11\n",
            "11 12 13 14 15 16 17      15 16 17 18 19 20 21      12 13 14 15 16 17 18\n",
            "18 19 20 21 22 23 24      22 23 24 25 26 27 28      19 20 21 22 23 24 25\n",
            "25 26 27 28 29 30 31      29 30 31                  26 27 28 29 30\n",
            "\n",
            "      October                   November                  December\n",
            "Mo Tu We Th Fr Sa Su      Mo Tu We Th Fr Sa Su      Mo Tu We Th Fr Sa Su\n",
            "                1  2          1  2  3  4  5  6                1  2  3  4\n",
            " 3  4  5  6  7  8  9       7  8  9 10 11 12 13       5  6  7  8  9 10 11\n",
            "10 11 12 13 14 15 16      14 15 16 17 18 19 20      12 13 14 15 16 17 18\n",
            "17 18 19 20 21 22 23      21 22 23 24 25 26 27      19 20 21 22 23 24 25\n",
            "24 25 26 27 28 29 30      28 29 30                  26 27 28 29 30 31\n",
            "31\n",
            "\n"
          ]
        }
      ]
    },
    {
      "cell_type": "markdown",
      "source": [
        "4- Write a Python program to solve quadratic equation?"
      ],
      "metadata": {
        "id": "-wl9uUxjlWXX"
      }
    },
    {
      "cell_type": "code",
      "source": [
        "import math\n",
        "a = float(input(\"Enter the coefficient of x^2\"))\n",
        "b = float(input(\"Enter the coefficient of x\"))\n",
        "c = float(input(\"Enter the constant term\"))\n",
        "D = ((b**2)-(4*(a*c)))\n",
        "if D<0:\n",
        "  print(\"Roots does not exist or are imaginary:\")\n",
        "else:\n",
        "  root1 = ((0-b)+math.sqrt(D))/(2*a)\n",
        "  root2 = ((0-b)-math.sqrt(D))/(2*a)\n",
        "  print(f\"The Square roots are {root1} , {root2} \")"
      ],
      "metadata": {
        "colab": {
          "base_uri": "https://localhost:8080/"
        },
        "id": "gJCsj-qAk-3P",
        "outputId": "9cdc1dcb-3c0a-4eb9-d7dc-ba382de4ff70"
      },
      "execution_count": 9,
      "outputs": [
        {
          "output_type": "stream",
          "name": "stdout",
          "text": [
            "Enter the coefficient of x^256.78\n",
            "Enter the coefficient of x45.89\n",
            "Enter the constant term2.3\n",
            "The Square roots are -0.05368600037495849 , -0.7545211148064433 \n"
          ]
        }
      ]
    },
    {
      "cell_type": "markdown",
      "source": [
        "5 -Write a Python program to swap two variables without temp variable?"
      ],
      "metadata": {
        "id": "ruHMv2RinGQG"
      }
    },
    {
      "cell_type": "code",
      "source": [
        "a = int(input(\"Enter first number \"))\n",
        "b = int(input(\"Enter secodn number \"))\n",
        "a = a+b\n",
        "b = a-b\n",
        "a = a-b\n",
        "print(f\"After swapping a = {a} , b = {b} \")"
      ],
      "metadata": {
        "colab": {
          "base_uri": "https://localhost:8080/"
        },
        "id": "zkWg-CQ6nIc-",
        "outputId": "60bca47a-168a-40e0-88b0-dadf22dc8068"
      },
      "execution_count": 10,
      "outputs": [
        {
          "output_type": "stream",
          "name": "stdout",
          "text": [
            "Enter first number 12\n",
            "Enter secodn number 14\n",
            "After swapping a = 14 , b = 12 \n"
          ]
        }
      ]
    }
  ]
}