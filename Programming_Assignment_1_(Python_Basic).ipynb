{
  "nbformat": 4,
  "nbformat_minor": 0,
  "metadata": {
    "colab": {
      "provenance": []
    },
    "kernelspec": {
      "name": "python3",
      "display_name": "Python 3"
    },
    "language_info": {
      "name": "python"
    }
  },
  "cells": [
    {
      "cell_type": "markdown",
      "source": [
        "1. Write a Python program to print &quot;Hello Python&quot;?"
      ],
      "metadata": {
        "id": "zqPzJ_FSrKV6"
      }
    },
    {
      "cell_type": "code",
      "execution_count": 2,
      "metadata": {
        "colab": {
          "base_uri": "https://localhost:8080/"
        },
        "id": "Gq6zmcezq2Yf",
        "outputId": "d9d1333f-69ce-4ca2-fd72-49724aacc702"
      },
      "outputs": [
        {
          "output_type": "stream",
          "name": "stdout",
          "text": [
            "\"Hello Python\"\n"
          ]
        }
      ],
      "source": [
        "print(\"\\\"Hello Python\\\"\")\n",
        "# Use backslash for the \"Print double quotes\""
      ]
    },
    {
      "cell_type": "markdown",
      "source": [
        "2. Write a Python program to do arithmetical operations addition and division.?"
      ],
      "metadata": {
        "id": "bXF7oOqlro_9"
      }
    },
    {
      "cell_type": "code",
      "source": [
        "a = int(input(\"Enter First Number\"))\n",
        "b = int(input(\"Enter second number\"))\n",
        "print(f\"The addition of {a} and {b} is {a+b}\")\n",
        "print(f\"The addition of {a} and {b} is {a/b}\")"
      ],
      "metadata": {
        "colab": {
          "base_uri": "https://localhost:8080/"
        },
        "id": "A12RIamkrVDd",
        "outputId": "25028e75-cd9e-4e4b-a0a1-f8ddf8054023"
      },
      "execution_count": 4,
      "outputs": [
        {
          "output_type": "stream",
          "name": "stdout",
          "text": [
            "Enter First Number12\n",
            "Enter second number5\n",
            "The addition of 12 and 5 is 17\n",
            "The addition of 12 and 5 is 2.4\n"
          ]
        }
      ]
    },
    {
      "cell_type": "markdown",
      "source": [
        "3. Write a Python program to find the area of a triangle?"
      ],
      "metadata": {
        "id": "cA4wORGZsOOx"
      }
    },
    {
      "cell_type": "code",
      "source": [
        "import math\n",
        "print(\"Enter 3 sides of triangle : \")\n",
        "a = int(input())\n",
        "b = int(input())\n",
        "c = int(input())\n",
        "s = (a+b+c)/2\n",
        "area = math.sqrt(s*(s-a)*(s-b)*(s-c))\n",
        "print(f\"The Area of Triangle formed by {a} {b} {c} is: {area}\")"
      ],
      "metadata": {
        "colab": {
          "base_uri": "https://localhost:8080/"
        },
        "id": "_jjp0F_AsJ63",
        "outputId": "4f0769f6-64d5-4493-d033-e9c12859ccb9"
      },
      "execution_count": 17,
      "outputs": [
        {
          "output_type": "stream",
          "name": "stdout",
          "text": [
            "Enter 3 sides of triangle : \n",
            "9\n",
            "6\n",
            "5\n",
            "The Area of Triangle formed by 9 6 5 is: 14.142135623730951\n"
          ]
        }
      ]
    },
    {
      "cell_type": "markdown",
      "source": [
        "4. Write a Python program to swap two variables?13"
      ],
      "metadata": {
        "id": "zYgyOv5Ltyxx"
      }
    },
    {
      "cell_type": "code",
      "source": [
        "a = int(input(\"Enter first variable\"))\n",
        "b = int(input(\"Enter first variable\"))\n",
        "temp = a\n",
        "a = b\n",
        "b = temp\n",
        "print(a,b)"
      ],
      "metadata": {
        "colab": {
          "base_uri": "https://localhost:8080/"
        },
        "id": "sivvplg8tKWf",
        "outputId": "e20aae24-f3c1-4e6f-fc6b-4cf04759dcef"
      },
      "execution_count": 10,
      "outputs": [
        {
          "output_type": "stream",
          "name": "stdout",
          "text": [
            "Enter first variable12\n",
            "Enter first variable13\n",
            "13 12\n"
          ]
        }
      ]
    },
    {
      "cell_type": "markdown",
      "source": [
        "5. Write a Python program to generate a random number?"
      ],
      "metadata": {
        "id": "bkIueP1dutMz"
      }
    },
    {
      "cell_type": "code",
      "source": [
        "import random\n",
        "random.randrange(0,1000,4)"
      ],
      "metadata": {
        "colab": {
          "base_uri": "https://localhost:8080/"
        },
        "id": "pqzdV51pvVyl",
        "outputId": "b90e73a1-c1c8-416a-e1e9-565cdc376d0b"
      },
      "execution_count": 18,
      "outputs": [
        {
          "output_type": "execute_result",
          "data": {
            "text/plain": [
              "940"
            ]
          },
          "metadata": {},
          "execution_count": 18
        }
      ]
    },
    {
      "cell_type": "code",
      "source": [
        "list1 = (1,2,4,5,78,90,67,23,45,12,333)\n",
        "random.choice(list1)"
      ],
      "metadata": {
        "colab": {
          "base_uri": "https://localhost:8080/"
        },
        "id": "UJGTjOVqww_o",
        "outputId": "bbb3af66-15c4-49b4-d95f-b5ef721ba5ae"
      },
      "execution_count": 19,
      "outputs": [
        {
          "output_type": "execute_result",
          "data": {
            "text/plain": [
              "23"
            ]
          },
          "metadata": {},
          "execution_count": 19
        }
      ]
    },
    {
      "cell_type": "code",
      "source": [
        "random.random() # Genrate random number between 0 and 1"
      ],
      "metadata": {
        "colab": {
          "base_uri": "https://localhost:8080/"
        },
        "id": "2Pl3xd6rw5wI",
        "outputId": "22c2c633-669b-436d-dfa0-27849afda6a9"
      },
      "execution_count": 22,
      "outputs": [
        {
          "output_type": "execute_result",
          "data": {
            "text/plain": [
              "0.8346003959870935"
            ]
          },
          "metadata": {},
          "execution_count": 22
        }
      ]
    },
    {
      "cell_type": "code",
      "source": [],
      "metadata": {
        "id": "1b4Uu6Ymw_lY"
      },
      "execution_count": null,
      "outputs": []
    }
  ]
}